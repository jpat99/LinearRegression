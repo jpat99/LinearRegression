{
 "cells": [
  {
   "cell_type": "code",
   "execution_count": 245,
   "id": "d2de2a0d",
   "metadata": {},
   "outputs": [],
   "source": [
    "import numpy as np\n",
    "import pandas as pd \n",
    "import matplotlib.pyplot as plt\n",
    "import seaborn as sns\n",
    "from sklearn.model_selection import train_test_split\n",
    "from sklearn import datasets, linear_model\n",
    "from sklearn.linear_model import SGDRegressor, Ridge, LinearRegression\n",
    "from sklearn.metrics import mean_squared_error, r2_score, mean_absolute_error\n",
    "import scipy.stats as st\n",
    "import statsmodels.api as sm\n",
    "from scipy.stats import linregress"
   ]
  },
  {
   "cell_type": "code",
   "execution_count": 160,
   "id": "594315bf",
   "metadata": {},
   "outputs": [],
   "source": [
    "hp_train = pd.read_csv('datasets/house_train.csv')"
   ]
  },
  {
   "cell_type": "code",
   "execution_count": 161,
   "id": "6baa9eab",
   "metadata": {},
   "outputs": [
    {
     "data": {
      "text/html": [
       "<div>\n",
       "<style scoped>\n",
       "    .dataframe tbody tr th:only-of-type {\n",
       "        vertical-align: middle;\n",
       "    }\n",
       "\n",
       "    .dataframe tbody tr th {\n",
       "        vertical-align: top;\n",
       "    }\n",
       "\n",
       "    .dataframe thead th {\n",
       "        text-align: right;\n",
       "    }\n",
       "</style>\n",
       "<table border=\"1\" class=\"dataframe\">\n",
       "  <thead>\n",
       "    <tr style=\"text-align: right;\">\n",
       "      <th></th>\n",
       "      <th>Id</th>\n",
       "      <th>MSSubClass</th>\n",
       "      <th>MSZoning</th>\n",
       "      <th>LotFrontage</th>\n",
       "      <th>LotArea</th>\n",
       "      <th>Street</th>\n",
       "      <th>Alley</th>\n",
       "      <th>LotShape</th>\n",
       "      <th>LandContour</th>\n",
       "      <th>Utilities</th>\n",
       "      <th>...</th>\n",
       "      <th>PoolArea</th>\n",
       "      <th>PoolQC</th>\n",
       "      <th>Fence</th>\n",
       "      <th>MiscFeature</th>\n",
       "      <th>MiscVal</th>\n",
       "      <th>MoSold</th>\n",
       "      <th>YrSold</th>\n",
       "      <th>SaleType</th>\n",
       "      <th>SaleCondition</th>\n",
       "      <th>SalePrice</th>\n",
       "    </tr>\n",
       "  </thead>\n",
       "  <tbody>\n",
       "    <tr>\n",
       "      <th>0</th>\n",
       "      <td>1</td>\n",
       "      <td>60</td>\n",
       "      <td>RL</td>\n",
       "      <td>65.0</td>\n",
       "      <td>8450</td>\n",
       "      <td>Pave</td>\n",
       "      <td>NaN</td>\n",
       "      <td>Reg</td>\n",
       "      <td>Lvl</td>\n",
       "      <td>AllPub</td>\n",
       "      <td>...</td>\n",
       "      <td>0</td>\n",
       "      <td>NaN</td>\n",
       "      <td>NaN</td>\n",
       "      <td>NaN</td>\n",
       "      <td>0</td>\n",
       "      <td>2</td>\n",
       "      <td>2008</td>\n",
       "      <td>WD</td>\n",
       "      <td>Normal</td>\n",
       "      <td>208500</td>\n",
       "    </tr>\n",
       "    <tr>\n",
       "      <th>1</th>\n",
       "      <td>2</td>\n",
       "      <td>20</td>\n",
       "      <td>RL</td>\n",
       "      <td>80.0</td>\n",
       "      <td>9600</td>\n",
       "      <td>Pave</td>\n",
       "      <td>NaN</td>\n",
       "      <td>Reg</td>\n",
       "      <td>Lvl</td>\n",
       "      <td>AllPub</td>\n",
       "      <td>...</td>\n",
       "      <td>0</td>\n",
       "      <td>NaN</td>\n",
       "      <td>NaN</td>\n",
       "      <td>NaN</td>\n",
       "      <td>0</td>\n",
       "      <td>5</td>\n",
       "      <td>2007</td>\n",
       "      <td>WD</td>\n",
       "      <td>Normal</td>\n",
       "      <td>181500</td>\n",
       "    </tr>\n",
       "    <tr>\n",
       "      <th>2</th>\n",
       "      <td>3</td>\n",
       "      <td>60</td>\n",
       "      <td>RL</td>\n",
       "      <td>68.0</td>\n",
       "      <td>11250</td>\n",
       "      <td>Pave</td>\n",
       "      <td>NaN</td>\n",
       "      <td>IR1</td>\n",
       "      <td>Lvl</td>\n",
       "      <td>AllPub</td>\n",
       "      <td>...</td>\n",
       "      <td>0</td>\n",
       "      <td>NaN</td>\n",
       "      <td>NaN</td>\n",
       "      <td>NaN</td>\n",
       "      <td>0</td>\n",
       "      <td>9</td>\n",
       "      <td>2008</td>\n",
       "      <td>WD</td>\n",
       "      <td>Normal</td>\n",
       "      <td>223500</td>\n",
       "    </tr>\n",
       "    <tr>\n",
       "      <th>3</th>\n",
       "      <td>4</td>\n",
       "      <td>70</td>\n",
       "      <td>RL</td>\n",
       "      <td>60.0</td>\n",
       "      <td>9550</td>\n",
       "      <td>Pave</td>\n",
       "      <td>NaN</td>\n",
       "      <td>IR1</td>\n",
       "      <td>Lvl</td>\n",
       "      <td>AllPub</td>\n",
       "      <td>...</td>\n",
       "      <td>0</td>\n",
       "      <td>NaN</td>\n",
       "      <td>NaN</td>\n",
       "      <td>NaN</td>\n",
       "      <td>0</td>\n",
       "      <td>2</td>\n",
       "      <td>2006</td>\n",
       "      <td>WD</td>\n",
       "      <td>Abnorml</td>\n",
       "      <td>140000</td>\n",
       "    </tr>\n",
       "    <tr>\n",
       "      <th>4</th>\n",
       "      <td>5</td>\n",
       "      <td>60</td>\n",
       "      <td>RL</td>\n",
       "      <td>84.0</td>\n",
       "      <td>14260</td>\n",
       "      <td>Pave</td>\n",
       "      <td>NaN</td>\n",
       "      <td>IR1</td>\n",
       "      <td>Lvl</td>\n",
       "      <td>AllPub</td>\n",
       "      <td>...</td>\n",
       "      <td>0</td>\n",
       "      <td>NaN</td>\n",
       "      <td>NaN</td>\n",
       "      <td>NaN</td>\n",
       "      <td>0</td>\n",
       "      <td>12</td>\n",
       "      <td>2008</td>\n",
       "      <td>WD</td>\n",
       "      <td>Normal</td>\n",
       "      <td>250000</td>\n",
       "    </tr>\n",
       "  </tbody>\n",
       "</table>\n",
       "<p>5 rows × 81 columns</p>\n",
       "</div>"
      ],
      "text/plain": [
       "   Id  MSSubClass MSZoning  LotFrontage  LotArea Street Alley LotShape  \\\n",
       "0   1          60       RL         65.0     8450   Pave   NaN      Reg   \n",
       "1   2          20       RL         80.0     9600   Pave   NaN      Reg   \n",
       "2   3          60       RL         68.0    11250   Pave   NaN      IR1   \n",
       "3   4          70       RL         60.0     9550   Pave   NaN      IR1   \n",
       "4   5          60       RL         84.0    14260   Pave   NaN      IR1   \n",
       "\n",
       "  LandContour Utilities  ... PoolArea PoolQC Fence MiscFeature MiscVal MoSold  \\\n",
       "0         Lvl    AllPub  ...        0    NaN   NaN         NaN       0      2   \n",
       "1         Lvl    AllPub  ...        0    NaN   NaN         NaN       0      5   \n",
       "2         Lvl    AllPub  ...        0    NaN   NaN         NaN       0      9   \n",
       "3         Lvl    AllPub  ...        0    NaN   NaN         NaN       0      2   \n",
       "4         Lvl    AllPub  ...        0    NaN   NaN         NaN       0     12   \n",
       "\n",
       "  YrSold  SaleType  SaleCondition  SalePrice  \n",
       "0   2008        WD         Normal     208500  \n",
       "1   2007        WD         Normal     181500  \n",
       "2   2008        WD         Normal     223500  \n",
       "3   2006        WD        Abnorml     140000  \n",
       "4   2008        WD         Normal     250000  \n",
       "\n",
       "[5 rows x 81 columns]"
      ]
     },
     "execution_count": 161,
     "metadata": {},
     "output_type": "execute_result"
    }
   ],
   "source": [
    "hp_train.head()"
   ]
  },
  {
   "cell_type": "code",
   "execution_count": 162,
   "id": "3be62ff9",
   "metadata": {},
   "outputs": [
    {
     "data": {
      "text/plain": [
       "(1460, 81)"
      ]
     },
     "execution_count": 162,
     "metadata": {},
     "output_type": "execute_result"
    }
   ],
   "source": [
    "hp_train.shape"
   ]
  },
  {
   "cell_type": "code",
   "execution_count": 163,
   "id": "fb248176",
   "metadata": {},
   "outputs": [
    {
     "data": {
      "text/plain": [
       "(1459, 80)"
      ]
     },
     "execution_count": 163,
     "metadata": {},
     "output_type": "execute_result"
    }
   ],
   "source": [
    "hp_test.shape"
   ]
  },
  {
   "cell_type": "code",
   "execution_count": 164,
   "id": "20e6bbfd",
   "metadata": {},
   "outputs": [
    {
     "name": "stdout",
     "output_type": "stream",
     "text": [
      "Id                 0\n",
      "MSSubClass         0\n",
      "MSZoning           0\n",
      "LotFrontage      259\n",
      "LotArea            0\n",
      "                ... \n",
      "MoSold             0\n",
      "YrSold             0\n",
      "SaleType           0\n",
      "SaleCondition      0\n",
      "SalePrice          0\n",
      "Length: 81, dtype: int64\n"
     ]
    }
   ],
   "source": [
    "print(hp_train.isna().sum())"
   ]
  },
  {
   "cell_type": "code",
   "execution_count": 166,
   "id": "c8efa33a",
   "metadata": {},
   "outputs": [
    {
     "data": {
      "text/plain": [
       "Index(['Id', 'MSSubClass', 'MSZoning', 'LotFrontage', 'LotArea', 'Street',\n",
       "       'Alley', 'LotShape', 'LandContour', 'Utilities', 'LotConfig',\n",
       "       'LandSlope', 'Neighborhood', 'Condition1', 'Condition2', 'BldgType',\n",
       "       'HouseStyle', 'OverallQual', 'OverallCond', 'YearBuilt', 'YearRemodAdd',\n",
       "       'RoofStyle', 'RoofMatl', 'Exterior1st', 'Exterior2nd', 'MasVnrType',\n",
       "       'MasVnrArea', 'ExterQual', 'ExterCond', 'Foundation', 'BsmtQual',\n",
       "       'BsmtCond', 'BsmtExposure', 'BsmtFinType1', 'BsmtFinSF1',\n",
       "       'BsmtFinType2', 'BsmtFinSF2', 'BsmtUnfSF', 'TotalBsmtSF', 'Heating',\n",
       "       'HeatingQC', 'CentralAir', 'Electrical', '1stFlrSF', '2ndFlrSF',\n",
       "       'LowQualFinSF', 'GrLivArea', 'BsmtFullBath', 'BsmtHalfBath', 'FullBath',\n",
       "       'HalfBath', 'BedroomAbvGr', 'KitchenAbvGr', 'KitchenQual',\n",
       "       'TotRmsAbvGrd', 'Functional', 'Fireplaces', 'FireplaceQu', 'GarageType',\n",
       "       'GarageYrBlt', 'GarageFinish', 'GarageCars', 'GarageArea', 'GarageQual',\n",
       "       'GarageCond', 'PavedDrive', 'WoodDeckSF', 'OpenPorchSF',\n",
       "       'EnclosedPorch', '3SsnPorch', 'ScreenPorch', 'PoolArea', 'PoolQC',\n",
       "       'Fence', 'MiscFeature', 'MiscVal', 'MoSold', 'YrSold', 'SaleType',\n",
       "       'SaleCondition', 'SalePrice'],\n",
       "      dtype='object')"
      ]
     },
     "execution_count": 166,
     "metadata": {},
     "output_type": "execute_result"
    }
   ],
   "source": [
    "hp_train.columns"
   ]
  },
  {
   "cell_type": "code",
   "execution_count": 119,
   "id": "7c754276",
   "metadata": {},
   "outputs": [],
   "source": [
    "#hp_train = hp_train.drop(columns=['Alley','PoolQC','Fence','MiscFeature'])\n",
    "#hp_train = hp_train.drop(columns=['3SsnPorch','ScreenPorch','PoolArea','MiscVal','EnclosedPorch'])\n",
    "#hp_train = hp_train.drop(columns=['GarageQual','GarageCond','PavedDrive'])\n",
    "#hp_train = hp_train.drop(columns=['Utilities','LandSlope','Neighborhood','Condition1','Condition2'])\n",
    "#hp_train = hp_train.drop(columns=['LotShape','LandContour','Street','RoofStyle','RoofMatl'])\n",
    "#hp_train = hp_train.drop(columns=['CentralAir','Electrical','BsmtFinType2','BsmtFinSF2','BsmtFullBath'])\n",
    "#hp_train = hp_train.drop(columns=['ExterQual','ExterCond','BsmtQual','BsmtCond','BsmtExposure','Heating'])\n",
    "#hp_train = hp_train.drop(columns=['LowQualFinSF','Functional','Fireplaces','KitchenAbvGr','KitchenQual'])\n",
    "#hp_train = hp_train.drop(columns=['GarageType','GarageYrBlt','GarageFinish','GarageCars','SaleType','FullBath'])\n",
    "#hp_train = hp_train.drop(columns=['HalfBath','BedroomAbvGr','MSZoning','FireplaceQu','HeatingQC'])\n",
    "#hp_train = hp_train.drop(columns=['BsmtFinType1','BsmtHalfBath'])"
   ]
  },
  {
   "cell_type": "code",
   "execution_count": 133,
   "id": "2f6c0e4d",
   "metadata": {},
   "outputs": [],
   "source": [
    "#hp_train['LotFrontage'] = hp_train['LotFrontage'].fillna(0)\n",
    "#hp_train['LotFrontage']\n",
    "#hp_train = hp_train.dropna()"
   ]
  },
  {
   "cell_type": "code",
   "execution_count": 137,
   "id": "8d0a0f59",
   "metadata": {},
   "outputs": [
    {
     "data": {
      "text/html": [
       "<div>\n",
       "<style scoped>\n",
       "    .dataframe tbody tr th:only-of-type {\n",
       "        vertical-align: middle;\n",
       "    }\n",
       "\n",
       "    .dataframe tbody tr th {\n",
       "        vertical-align: top;\n",
       "    }\n",
       "\n",
       "    .dataframe thead th {\n",
       "        text-align: right;\n",
       "    }\n",
       "</style>\n",
       "<table border=\"1\" class=\"dataframe\">\n",
       "  <thead>\n",
       "    <tr style=\"text-align: right;\">\n",
       "      <th></th>\n",
       "      <th>Id</th>\n",
       "      <th>MSSubClass</th>\n",
       "      <th>LotFrontage</th>\n",
       "      <th>LotArea</th>\n",
       "      <th>LotConfig</th>\n",
       "      <th>BldgType</th>\n",
       "      <th>HouseStyle</th>\n",
       "      <th>OverallQual</th>\n",
       "      <th>OverallCond</th>\n",
       "      <th>YearBuilt</th>\n",
       "      <th>...</th>\n",
       "      <th>2ndFlrSF</th>\n",
       "      <th>GrLivArea</th>\n",
       "      <th>TotRmsAbvGrd</th>\n",
       "      <th>GarageArea</th>\n",
       "      <th>WoodDeckSF</th>\n",
       "      <th>OpenPorchSF</th>\n",
       "      <th>MoSold</th>\n",
       "      <th>YrSold</th>\n",
       "      <th>SaleCondition</th>\n",
       "      <th>SalePrice</th>\n",
       "    </tr>\n",
       "  </thead>\n",
       "  <tbody>\n",
       "    <tr>\n",
       "      <th>0</th>\n",
       "      <td>1</td>\n",
       "      <td>60</td>\n",
       "      <td>65.0</td>\n",
       "      <td>8450</td>\n",
       "      <td>Inside</td>\n",
       "      <td>1Fam</td>\n",
       "      <td>2Story</td>\n",
       "      <td>7</td>\n",
       "      <td>5</td>\n",
       "      <td>2003</td>\n",
       "      <td>...</td>\n",
       "      <td>854</td>\n",
       "      <td>1710</td>\n",
       "      <td>8</td>\n",
       "      <td>548</td>\n",
       "      <td>0</td>\n",
       "      <td>61</td>\n",
       "      <td>2</td>\n",
       "      <td>2008</td>\n",
       "      <td>Normal</td>\n",
       "      <td>208500</td>\n",
       "    </tr>\n",
       "    <tr>\n",
       "      <th>1</th>\n",
       "      <td>2</td>\n",
       "      <td>20</td>\n",
       "      <td>80.0</td>\n",
       "      <td>9600</td>\n",
       "      <td>FR2</td>\n",
       "      <td>1Fam</td>\n",
       "      <td>1Story</td>\n",
       "      <td>6</td>\n",
       "      <td>8</td>\n",
       "      <td>1976</td>\n",
       "      <td>...</td>\n",
       "      <td>0</td>\n",
       "      <td>1262</td>\n",
       "      <td>6</td>\n",
       "      <td>460</td>\n",
       "      <td>298</td>\n",
       "      <td>0</td>\n",
       "      <td>5</td>\n",
       "      <td>2007</td>\n",
       "      <td>Normal</td>\n",
       "      <td>181500</td>\n",
       "    </tr>\n",
       "    <tr>\n",
       "      <th>2</th>\n",
       "      <td>3</td>\n",
       "      <td>60</td>\n",
       "      <td>68.0</td>\n",
       "      <td>11250</td>\n",
       "      <td>Inside</td>\n",
       "      <td>1Fam</td>\n",
       "      <td>2Story</td>\n",
       "      <td>7</td>\n",
       "      <td>5</td>\n",
       "      <td>2001</td>\n",
       "      <td>...</td>\n",
       "      <td>866</td>\n",
       "      <td>1786</td>\n",
       "      <td>6</td>\n",
       "      <td>608</td>\n",
       "      <td>0</td>\n",
       "      <td>42</td>\n",
       "      <td>9</td>\n",
       "      <td>2008</td>\n",
       "      <td>Normal</td>\n",
       "      <td>223500</td>\n",
       "    </tr>\n",
       "    <tr>\n",
       "      <th>3</th>\n",
       "      <td>4</td>\n",
       "      <td>70</td>\n",
       "      <td>60.0</td>\n",
       "      <td>9550</td>\n",
       "      <td>Corner</td>\n",
       "      <td>1Fam</td>\n",
       "      <td>2Story</td>\n",
       "      <td>7</td>\n",
       "      <td>5</td>\n",
       "      <td>1915</td>\n",
       "      <td>...</td>\n",
       "      <td>756</td>\n",
       "      <td>1717</td>\n",
       "      <td>7</td>\n",
       "      <td>642</td>\n",
       "      <td>0</td>\n",
       "      <td>35</td>\n",
       "      <td>2</td>\n",
       "      <td>2006</td>\n",
       "      <td>Abnorml</td>\n",
       "      <td>140000</td>\n",
       "    </tr>\n",
       "    <tr>\n",
       "      <th>4</th>\n",
       "      <td>5</td>\n",
       "      <td>60</td>\n",
       "      <td>84.0</td>\n",
       "      <td>14260</td>\n",
       "      <td>FR2</td>\n",
       "      <td>1Fam</td>\n",
       "      <td>2Story</td>\n",
       "      <td>8</td>\n",
       "      <td>5</td>\n",
       "      <td>2000</td>\n",
       "      <td>...</td>\n",
       "      <td>1053</td>\n",
       "      <td>2198</td>\n",
       "      <td>9</td>\n",
       "      <td>836</td>\n",
       "      <td>192</td>\n",
       "      <td>84</td>\n",
       "      <td>12</td>\n",
       "      <td>2008</td>\n",
       "      <td>Normal</td>\n",
       "      <td>250000</td>\n",
       "    </tr>\n",
       "    <tr>\n",
       "      <th>...</th>\n",
       "      <td>...</td>\n",
       "      <td>...</td>\n",
       "      <td>...</td>\n",
       "      <td>...</td>\n",
       "      <td>...</td>\n",
       "      <td>...</td>\n",
       "      <td>...</td>\n",
       "      <td>...</td>\n",
       "      <td>...</td>\n",
       "      <td>...</td>\n",
       "      <td>...</td>\n",
       "      <td>...</td>\n",
       "      <td>...</td>\n",
       "      <td>...</td>\n",
       "      <td>...</td>\n",
       "      <td>...</td>\n",
       "      <td>...</td>\n",
       "      <td>...</td>\n",
       "      <td>...</td>\n",
       "      <td>...</td>\n",
       "      <td>...</td>\n",
       "    </tr>\n",
       "    <tr>\n",
       "      <th>1455</th>\n",
       "      <td>1456</td>\n",
       "      <td>60</td>\n",
       "      <td>62.0</td>\n",
       "      <td>7917</td>\n",
       "      <td>Inside</td>\n",
       "      <td>1Fam</td>\n",
       "      <td>2Story</td>\n",
       "      <td>6</td>\n",
       "      <td>5</td>\n",
       "      <td>1999</td>\n",
       "      <td>...</td>\n",
       "      <td>694</td>\n",
       "      <td>1647</td>\n",
       "      <td>7</td>\n",
       "      <td>460</td>\n",
       "      <td>0</td>\n",
       "      <td>40</td>\n",
       "      <td>8</td>\n",
       "      <td>2007</td>\n",
       "      <td>Normal</td>\n",
       "      <td>175000</td>\n",
       "    </tr>\n",
       "    <tr>\n",
       "      <th>1456</th>\n",
       "      <td>1457</td>\n",
       "      <td>20</td>\n",
       "      <td>85.0</td>\n",
       "      <td>13175</td>\n",
       "      <td>Inside</td>\n",
       "      <td>1Fam</td>\n",
       "      <td>1Story</td>\n",
       "      <td>6</td>\n",
       "      <td>6</td>\n",
       "      <td>1978</td>\n",
       "      <td>...</td>\n",
       "      <td>0</td>\n",
       "      <td>2073</td>\n",
       "      <td>7</td>\n",
       "      <td>500</td>\n",
       "      <td>349</td>\n",
       "      <td>0</td>\n",
       "      <td>2</td>\n",
       "      <td>2010</td>\n",
       "      <td>Normal</td>\n",
       "      <td>210000</td>\n",
       "    </tr>\n",
       "    <tr>\n",
       "      <th>1457</th>\n",
       "      <td>1458</td>\n",
       "      <td>70</td>\n",
       "      <td>66.0</td>\n",
       "      <td>9042</td>\n",
       "      <td>Inside</td>\n",
       "      <td>1Fam</td>\n",
       "      <td>2Story</td>\n",
       "      <td>7</td>\n",
       "      <td>9</td>\n",
       "      <td>1941</td>\n",
       "      <td>...</td>\n",
       "      <td>1152</td>\n",
       "      <td>2340</td>\n",
       "      <td>9</td>\n",
       "      <td>252</td>\n",
       "      <td>0</td>\n",
       "      <td>60</td>\n",
       "      <td>5</td>\n",
       "      <td>2010</td>\n",
       "      <td>Normal</td>\n",
       "      <td>266500</td>\n",
       "    </tr>\n",
       "    <tr>\n",
       "      <th>1458</th>\n",
       "      <td>1459</td>\n",
       "      <td>20</td>\n",
       "      <td>68.0</td>\n",
       "      <td>9717</td>\n",
       "      <td>Inside</td>\n",
       "      <td>1Fam</td>\n",
       "      <td>1Story</td>\n",
       "      <td>5</td>\n",
       "      <td>6</td>\n",
       "      <td>1950</td>\n",
       "      <td>...</td>\n",
       "      <td>0</td>\n",
       "      <td>1078</td>\n",
       "      <td>5</td>\n",
       "      <td>240</td>\n",
       "      <td>366</td>\n",
       "      <td>0</td>\n",
       "      <td>4</td>\n",
       "      <td>2010</td>\n",
       "      <td>Normal</td>\n",
       "      <td>142125</td>\n",
       "    </tr>\n",
       "    <tr>\n",
       "      <th>1459</th>\n",
       "      <td>1460</td>\n",
       "      <td>20</td>\n",
       "      <td>75.0</td>\n",
       "      <td>9937</td>\n",
       "      <td>Inside</td>\n",
       "      <td>1Fam</td>\n",
       "      <td>1Story</td>\n",
       "      <td>5</td>\n",
       "      <td>6</td>\n",
       "      <td>1965</td>\n",
       "      <td>...</td>\n",
       "      <td>0</td>\n",
       "      <td>1256</td>\n",
       "      <td>6</td>\n",
       "      <td>276</td>\n",
       "      <td>736</td>\n",
       "      <td>68</td>\n",
       "      <td>6</td>\n",
       "      <td>2008</td>\n",
       "      <td>Normal</td>\n",
       "      <td>147500</td>\n",
       "    </tr>\n",
       "  </tbody>\n",
       "</table>\n",
       "<p>1452 rows × 30 columns</p>\n",
       "</div>"
      ],
      "text/plain": [
       "        Id  MSSubClass  LotFrontage  LotArea LotConfig BldgType HouseStyle  \\\n",
       "0        1          60         65.0     8450    Inside     1Fam     2Story   \n",
       "1        2          20         80.0     9600       FR2     1Fam     1Story   \n",
       "2        3          60         68.0    11250    Inside     1Fam     2Story   \n",
       "3        4          70         60.0     9550    Corner     1Fam     2Story   \n",
       "4        5          60         84.0    14260       FR2     1Fam     2Story   \n",
       "...    ...         ...          ...      ...       ...      ...        ...   \n",
       "1455  1456          60         62.0     7917    Inside     1Fam     2Story   \n",
       "1456  1457          20         85.0    13175    Inside     1Fam     1Story   \n",
       "1457  1458          70         66.0     9042    Inside     1Fam     2Story   \n",
       "1458  1459          20         68.0     9717    Inside     1Fam     1Story   \n",
       "1459  1460          20         75.0     9937    Inside     1Fam     1Story   \n",
       "\n",
       "      OverallQual  OverallCond  YearBuilt  ...  2ndFlrSF GrLivArea  \\\n",
       "0               7            5       2003  ...       854      1710   \n",
       "1               6            8       1976  ...         0      1262   \n",
       "2               7            5       2001  ...       866      1786   \n",
       "3               7            5       1915  ...       756      1717   \n",
       "4               8            5       2000  ...      1053      2198   \n",
       "...           ...          ...        ...  ...       ...       ...   \n",
       "1455            6            5       1999  ...       694      1647   \n",
       "1456            6            6       1978  ...         0      2073   \n",
       "1457            7            9       1941  ...      1152      2340   \n",
       "1458            5            6       1950  ...         0      1078   \n",
       "1459            5            6       1965  ...         0      1256   \n",
       "\n",
       "     TotRmsAbvGrd GarageArea  WoodDeckSF OpenPorchSF  MoSold  YrSold  \\\n",
       "0               8        548           0          61       2    2008   \n",
       "1               6        460         298           0       5    2007   \n",
       "2               6        608           0          42       9    2008   \n",
       "3               7        642           0          35       2    2006   \n",
       "4               9        836         192          84      12    2008   \n",
       "...           ...        ...         ...         ...     ...     ...   \n",
       "1455            7        460           0          40       8    2007   \n",
       "1456            7        500         349           0       2    2010   \n",
       "1457            9        252           0          60       5    2010   \n",
       "1458            5        240         366           0       4    2010   \n",
       "1459            6        276         736          68       6    2008   \n",
       "\n",
       "      SaleCondition  SalePrice  \n",
       "0            Normal     208500  \n",
       "1            Normal     181500  \n",
       "2            Normal     223500  \n",
       "3           Abnorml     140000  \n",
       "4            Normal     250000  \n",
       "...             ...        ...  \n",
       "1455         Normal     175000  \n",
       "1456         Normal     210000  \n",
       "1457         Normal     266500  \n",
       "1458         Normal     142125  \n",
       "1459         Normal     147500  \n",
       "\n",
       "[1452 rows x 30 columns]"
      ]
     },
     "execution_count": 137,
     "metadata": {},
     "output_type": "execute_result"
    }
   ],
   "source": [
    "hp_train"
   ]
  },
  {
   "cell_type": "code",
   "execution_count": 168,
   "id": "9b4b2809",
   "metadata": {},
   "outputs": [
    {
     "data": {
      "text/plain": [
       "Id                 0\n",
       "MSSubClass         0\n",
       "MSZoning           0\n",
       "LotFrontage      259\n",
       "LotArea            0\n",
       "                ... \n",
       "MoSold             0\n",
       "YrSold             0\n",
       "SaleType           0\n",
       "SaleCondition      0\n",
       "SalePrice          0\n",
       "Length: 81, dtype: int64"
      ]
     },
     "execution_count": 168,
     "metadata": {},
     "output_type": "execute_result"
    }
   ],
   "source": [
    "hp_train.isna().sum()"
   ]
  },
  {
   "cell_type": "code",
   "execution_count": 169,
   "id": "852fbd6b",
   "metadata": {},
   "outputs": [
    {
     "data": {
      "text/plain": [
       "Id                 int64\n",
       "MSSubClass         int64\n",
       "MSZoning          object\n",
       "LotFrontage      float64\n",
       "LotArea            int64\n",
       "                  ...   \n",
       "MoSold             int64\n",
       "YrSold             int64\n",
       "SaleType          object\n",
       "SaleCondition     object\n",
       "SalePrice          int64\n",
       "Length: 81, dtype: object"
      ]
     },
     "execution_count": 169,
     "metadata": {},
     "output_type": "execute_result"
    }
   ],
   "source": [
    "hp_train.dtypes"
   ]
  },
  {
   "cell_type": "code",
   "execution_count": 197,
   "id": "c6f75f4c",
   "metadata": {},
   "outputs": [],
   "source": [
    "# from sklearn.preprocessing import LabelEncoder\n",
    "# enc = LabelEncoder()\n",
    "\n",
    "# hp_train['LotConfig'] = enc.fit(hp_train['LotConfig']).transform(hp_train['LotConfig'])\n",
    "# hp_train['BldgType'] = enc.fit(hp_train['BldgType']).transform(hp_train['BldgType'])\n",
    "# hp_train['HouseStyle'] = enc.fit(hp_train['HouseStyle']).transform(hp_train['HouseStyle'])\n",
    "# hp_train['Exterior1st'] = enc.fit(hp_train['Exterior1st']).transform(hp_train['Exterior1st'])\n",
    "# hp_train['Exterior2nd'] = enc.fit(hp_train['Exterior2nd']).transform(hp_train['Exterior2nd'])\n",
    "# hp_train['MasVnrType'] = enc.fit(hp_train['MasVnrType']).transform(hp_train['MasVnrType'])\n",
    "# hp_train['Foundation'] = enc.fit(hp_train['Foundation']).transform(hp_train['Foundation'])\n",
    "# hp_train['SaleCondition'] = enc.fit(hp_train['SaleCondition']).transform(hp_train['SaleCondition'])\n",
    "\n",
    "# for col in hp_train.columns:\n",
    "#     if col == 'LotConfig' or 'BldgType' or 'HouseStyle' or 'Exterior1st' or 'Exterior2nd' or 'MasVnrType' \n",
    "#     or 'Foundation' or 'SaleCondition':\n",
    "#         hp_train[col] = enc.fit(hp_train[col]).transform(hp_train[col])"
   ]
  },
  {
   "cell_type": "code",
   "execution_count": 170,
   "id": "6be86767",
   "metadata": {},
   "outputs": [],
   "source": [
    "hp_train['BldgType'] = enc.fit(hp_train['BldgType']).transform(hp_train['BldgType'])\n",
    "hp_train['HouseStyle'] = enc.fit(hp_train['HouseStyle']).transform(hp_train['HouseStyle'])\n",
    "hp_train['MSZoning'] = enc.fit(hp_train['MSZoning']).transform(hp_train['MSZoning'])"
   ]
  },
  {
   "cell_type": "code",
   "execution_count": 171,
   "id": "699f8d07",
   "metadata": {},
   "outputs": [
    {
     "data": {
      "text/plain": [
       "Id                 int64\n",
       "MSSubClass         int64\n",
       "MSZoning           int64\n",
       "LotFrontage      float64\n",
       "LotArea            int64\n",
       "                  ...   \n",
       "MoSold             int64\n",
       "YrSold             int64\n",
       "SaleType          object\n",
       "SaleCondition     object\n",
       "SalePrice          int64\n",
       "Length: 81, dtype: object"
      ]
     },
     "execution_count": 171,
     "metadata": {},
     "output_type": "execute_result"
    }
   ],
   "source": [
    "hp_train.dtypes"
   ]
  },
  {
   "cell_type": "code",
   "execution_count": null,
   "id": "87da7b6a",
   "metadata": {},
   "outputs": [],
   "source": [
    "# plt.scatter(df['price'],df['sqft_living'])\n",
    "# sns.scatterplot(data=df, x=\"bmi\", y=\"target\", hue='bp')\n",
    "\n",
    "# plt.scatter(who_data.iloc[:,1], who_data.iloc[:,8])\n",
    "\n",
    "# income = who_data.iloc[:,1]\n",
    "# alcohol = who_data.iloc[:,8]\n",
    "# correlation = st.pearsonr(income, alcohol)\n",
    "# print(f\"r = {round(correlation[0], 2)}\")\n",
    "\n",
    "# correlation = st.pearsonr(alco, color_int)\n",
    "# print(f\"The r value is {round(correlation[0], 2)}. The relationship is positively correlated.\")\n",
    "\n"
   ]
  },
  {
   "cell_type": "code",
   "execution_count": 211,
   "id": "b77c7788",
   "metadata": {},
   "outputs": [
    {
     "name": "stdout",
     "output_type": "stream",
     "text": [
      "r = -0.08\n"
     ]
    },
    {
     "data": {
      "image/png": "[encoded data removed]",
      "text/plain": [
       "<Figure size 432x288 with 1 Axes>"
      ]
     },
     "metadata": {
      "needs_background": "light"
     },
     "output_type": "display_data"
    }
   ],
   "source": [
    "plt.scatter(hp_train['MSSubClass'],hp_train['SalePrice'])\n",
    "\n",
    "MSSubClass = hp_train.loc[:,'MSSubClass']\n",
    "SalePrice = hp_train.loc[:,'SalePrice']\n",
    "correlation = st.pearsonr(MSSubClass, SalePrice)\n",
    "print(f\"r = {round(correlation[0], 2)}\")"
   ]
  },
  {
   "cell_type": "code",
   "execution_count": 212,
   "id": "36e5e340",
   "metadata": {},
   "outputs": [
    {
     "name": "stdout",
     "output_type": "stream",
     "text": [
      "r = -0.17\n"
     ]
    },
    {
     "data": {
      "image/png": "[encoded data removed]",
      "text/plain": [
       "<Figure size 432x288 with 1 Axes>"
      ]
     },
     "metadata": {
      "needs_background": "light"
     },
     "output_type": "display_data"
    }
   ],
   "source": [
    "plt.scatter(hp_train['MSZoning'],hp_train['SalePrice'])\n",
    "\n",
    "MSZoning = hp_train.loc[:,'MSZoning']\n",
    "SalePrice = hp_train.loc[:,'SalePrice']\n",
    "correlation = st.pearsonr(MSZoning, SalePrice)\n",
    "print(f\"r = {round(correlation[0], 2)}\")"
   ]
  },
  {
   "cell_type": "code",
   "execution_count": 213,
   "id": "ef11ca1f",
   "metadata": {},
   "outputs": [
    {
     "name": "stdout",
     "output_type": "stream",
     "text": [
      "r = 0.26\n"
     ]
    },
    {
     "data": {
      "image/png": "[encoded data removed]",
      "text/plain": [
       "<Figure size 432x288 with 1 Axes>"
      ]
     },
     "metadata": {
      "needs_background": "light"
     },
     "output_type": "display_data"
    }
   ],
   "source": [
    "plt.scatter(hp_train['LotArea'],hp_train['SalePrice'])\n",
    "\n",
    "LotArea = hp_train.loc[:,'LotArea']\n",
    "SalePrice = hp_train.loc[:,'SalePrice']\n",
    "correlation = st.pearsonr(LotArea, SalePrice)\n",
    "print(f\"r = {round(correlation[0], 2)}\")"
   ]
  },
  {
   "cell_type": "code",
   "execution_count": 214,
   "id": "985a67b5",
   "metadata": {},
   "outputs": [
    {
     "name": "stdout",
     "output_type": "stream",
     "text": [
      "r = -0.09\n"
     ]
    },
    {
     "data": {
      "image/png": "[encoded data removed]",
      "text/plain": [
       "<Figure size 432x288 with 1 Axes>"
      ]
     },
     "metadata": {
      "needs_background": "light"
     },
     "output_type": "display_data"
    }
   ],
   "source": [
    "plt.scatter(hp_train['BldgType'],hp_train['SalePrice'])\n",
    "\n",
    "BldgType = hp_train.loc[:,'BldgType']\n",
    "SalePrice = hp_train.loc[:,'SalePrice']\n",
    "correlation = st.pearsonr(BldgType, SalePrice)\n",
    "print(f\"r = {round(correlation[0], 2)}\")"
   ]
  },
  {
   "cell_type": "code",
   "execution_count": 215,
   "id": "7030085d",
   "metadata": {},
   "outputs": [
    {
     "name": "stdout",
     "output_type": "stream",
     "text": [
      "r = 0.18\n"
     ]
    },
    {
     "data": {
      "image/png": "[encoded data removed]",
      "text/plain": [
       "<Figure size 432x288 with 1 Axes>"
      ]
     },
     "metadata": {
      "needs_background": "light"
     },
     "output_type": "display_data"
    }
   ],
   "source": [
    "plt.scatter(hp_train['HouseStyle'],hp_train['SalePrice'])\n",
    "\n",
    "HouseStyle = hp_train.loc[:,'HouseStyle']\n",
    "SalePrice = hp_train.loc[:,'SalePrice']\n",
    "correlation = st.pearsonr(HouseStyle, SalePrice)\n",
    "print(f\"r = {round(correlation[0], 2)}\")"
   ]
  },
  {
   "cell_type": "code",
   "execution_count": 216,
   "id": "3ba9ad09",
   "metadata": {},
   "outputs": [
    {
     "name": "stdout",
     "output_type": "stream",
     "text": [
      "r = 0.79\n"
     ]
    },
    {
     "data": {
      "image/png": "[encoded data removed]",
      "text/plain": [
       "<Figure size 432x288 with 1 Axes>"
      ]
     },
     "metadata": {
      "needs_background": "light"
     },
     "output_type": "display_data"
    }
   ],
   "source": [
    "plt.scatter(hp_train['OverallQual'],hp_train['SalePrice'])\n",
    "\n",
    "OverallQual = hp_train.loc[:,'OverallQual']\n",
    "SalePrice = hp_train.loc[:,'SalePrice']\n",
    "correlation = st.pearsonr(OverallQual, SalePrice)\n",
    "print(f\"r = {round(correlation[0], 2)}\")"
   ]
  },
  {
   "cell_type": "code",
   "execution_count": 217,
   "id": "c68dca1d",
   "metadata": {},
   "outputs": [
    {
     "name": "stdout",
     "output_type": "stream",
     "text": [
      "r = -0.08\n"
     ]
    },
    {
     "data": {
      "image/png": "[encoded data removed]",
      "text/plain": [
       "<Figure size 432x288 with 1 Axes>"
      ]
     },
     "metadata": {
      "needs_background": "light"
     },
     "output_type": "display_data"
    }
   ],
   "source": [
    "plt.scatter(hp_train['OverallCond'],hp_train['SalePrice'])\n",
    "\n",
    "OverallCond = hp_train.loc[:,'OverallCond']\n",
    "SalePrice = hp_train.loc[:,'SalePrice']\n",
    "correlation = st.pearsonr(OverallCond, SalePrice)\n",
    "print(f\"r = {round(correlation[0], 2)}\")"
   ]
  },
  {
   "cell_type": "code",
   "execution_count": 218,
   "id": "0ceb193e",
   "metadata": {},
   "outputs": [
    {
     "name": "stdout",
     "output_type": "stream",
     "text": [
      "r = 0.52\n"
     ]
    },
    {
     "data": {
      "image/png": "[encoded data removed]",
      "text/plain": [
       "<Figure size 432x288 with 1 Axes>"
      ]
     },
     "metadata": {
      "needs_background": "light"
     },
     "output_type": "display_data"
    }
   ],
   "source": [
    "plt.scatter(hp_train['YearBuilt'],hp_train['SalePrice'])\n",
    "\n",
    "YearBuilt = hp_train.loc[:,'YearBuilt']\n",
    "SalePrice = hp_train.loc[:,'SalePrice']\n",
    "correlation = st.pearsonr(YearBuilt, SalePrice)\n",
    "print(f\"r = {round(correlation[0], 2)}\")"
   ]
  },
  {
   "cell_type": "code",
   "execution_count": 219,
   "id": "5d998b3e",
   "metadata": {},
   "outputs": [
    {
     "name": "stdout",
     "output_type": "stream",
     "text": [
      "r = 0.61\n"
     ]
    },
    {
     "data": {
      "image/png": "[encoded data removed]",
      "text/plain": [
       "<Figure size 432x288 with 1 Axes>"
      ]
     },
     "metadata": {
      "needs_background": "light"
     },
     "output_type": "display_data"
    }
   ],
   "source": [
    "plt.scatter(hp_train['TotalBsmtSF'],hp_train['SalePrice'])\n",
    "\n",
    "TotalBsmtSF = hp_train.loc[:,'TotalBsmtSF']\n",
    "SalePrice = hp_train.loc[:,'SalePrice']\n",
    "correlation = st.pearsonr(TotalBsmtSF, SalePrice)\n",
    "print(f\"r = {round(correlation[0], 2)}\")"
   ]
  },
  {
   "cell_type": "code",
   "execution_count": 220,
   "id": "6a012118",
   "metadata": {},
   "outputs": [
    {
     "name": "stdout",
     "output_type": "stream",
     "text": [
      "r = 0.71\n"
     ]
    },
    {
     "data": {
      "image/png": "[encoded data removed]",
      "text/plain": [
       "<Figure size 432x288 with 1 Axes>"
      ]
     },
     "metadata": {
      "needs_background": "light"
     },
     "output_type": "display_data"
    }
   ],
   "source": [
    "plt.scatter(hp_train['GrLivArea'],hp_train['SalePrice'])\n",
    "\n",
    "GrLivArea = hp_train.loc[:,'GrLivArea']\n",
    "SalePrice = hp_train.loc[:,'SalePrice']\n",
    "correlation = st.pearsonr(GrLivArea, SalePrice)\n",
    "print(f\"r = {round(correlation[0], 2)}\")"
   ]
  },
  {
   "cell_type": "code",
   "execution_count": 250,
   "id": "34dcf832",
   "metadata": {},
   "outputs": [],
   "source": [
    "# x = hp_train[['MSSubClass','MSZoning','LotArea','BldgType','HouseStyle',\n",
    "#               'OverallQual','OverallCond','YearBuilt','TotalBsmtSF','GrLivArea']]"
   ]
  },
  {
   "cell_type": "code",
   "execution_count": 222,
   "id": "c062ad5f",
   "metadata": {},
   "outputs": [],
   "source": [
    "y = hp_train[['SalePrice']]\n",
    "x1 = hp_train[['LotArea','HouseStyle','OverallQual','YearBuilt','TotalBsmtSF','GrLivArea']]"
   ]
  },
  {
   "cell_type": "code",
   "execution_count": 223,
   "id": "9672a918",
   "metadata": {},
   "outputs": [
    {
     "data": {
      "text/html": [
       "<div>\n",
       "<style scoped>\n",
       "    .dataframe tbody tr th:only-of-type {\n",
       "        vertical-align: middle;\n",
       "    }\n",
       "\n",
       "    .dataframe tbody tr th {\n",
       "        vertical-align: top;\n",
       "    }\n",
       "\n",
       "    .dataframe thead th {\n",
       "        text-align: right;\n",
       "    }\n",
       "</style>\n",
       "<table border=\"1\" class=\"dataframe\">\n",
       "  <thead>\n",
       "    <tr style=\"text-align: right;\">\n",
       "      <th></th>\n",
       "      <th>LotArea</th>\n",
       "      <th>HouseStyle</th>\n",
       "      <th>OverallQual</th>\n",
       "      <th>YearBuilt</th>\n",
       "      <th>TotalBsmtSF</th>\n",
       "      <th>GrLivArea</th>\n",
       "    </tr>\n",
       "  </thead>\n",
       "  <tbody>\n",
       "    <tr>\n",
       "      <th>0</th>\n",
       "      <td>8450</td>\n",
       "      <td>5</td>\n",
       "      <td>7</td>\n",
       "      <td>2003</td>\n",
       "      <td>856</td>\n",
       "      <td>1710</td>\n",
       "    </tr>\n",
       "    <tr>\n",
       "      <th>1</th>\n",
       "      <td>9600</td>\n",
       "      <td>2</td>\n",
       "      <td>6</td>\n",
       "      <td>1976</td>\n",
       "      <td>1262</td>\n",
       "      <td>1262</td>\n",
       "    </tr>\n",
       "    <tr>\n",
       "      <th>2</th>\n",
       "      <td>11250</td>\n",
       "      <td>5</td>\n",
       "      <td>7</td>\n",
       "      <td>2001</td>\n",
       "      <td>920</td>\n",
       "      <td>1786</td>\n",
       "    </tr>\n",
       "    <tr>\n",
       "      <th>3</th>\n",
       "      <td>9550</td>\n",
       "      <td>5</td>\n",
       "      <td>7</td>\n",
       "      <td>1915</td>\n",
       "      <td>756</td>\n",
       "      <td>1717</td>\n",
       "    </tr>\n",
       "    <tr>\n",
       "      <th>4</th>\n",
       "      <td>14260</td>\n",
       "      <td>5</td>\n",
       "      <td>8</td>\n",
       "      <td>2000</td>\n",
       "      <td>1145</td>\n",
       "      <td>2198</td>\n",
       "    </tr>\n",
       "  </tbody>\n",
       "</table>\n",
       "</div>"
      ],
      "text/plain": [
       "   LotArea  HouseStyle  OverallQual  YearBuilt  TotalBsmtSF  GrLivArea\n",
       "0     8450           5            7       2003          856       1710\n",
       "1     9600           2            6       1976         1262       1262\n",
       "2    11250           5            7       2001          920       1786\n",
       "3     9550           5            7       1915          756       1717\n",
       "4    14260           5            8       2000         1145       2198"
      ]
     },
     "execution_count": 223,
     "metadata": {},
     "output_type": "execute_result"
    }
   ],
   "source": [
    "x1.head()"
   ]
  },
  {
   "cell_type": "code",
   "execution_count": 224,
   "id": "029442e1",
   "metadata": {},
   "outputs": [
    {
     "data": {
      "text/html": [
       "<div>\n",
       "<style scoped>\n",
       "    .dataframe tbody tr th:only-of-type {\n",
       "        vertical-align: middle;\n",
       "    }\n",
       "\n",
       "    .dataframe tbody tr th {\n",
       "        vertical-align: top;\n",
       "    }\n",
       "\n",
       "    .dataframe thead th {\n",
       "        text-align: right;\n",
       "    }\n",
       "</style>\n",
       "<table border=\"1\" class=\"dataframe\">\n",
       "  <thead>\n",
       "    <tr style=\"text-align: right;\">\n",
       "      <th></th>\n",
       "      <th>SalePrice</th>\n",
       "    </tr>\n",
       "  </thead>\n",
       "  <tbody>\n",
       "    <tr>\n",
       "      <th>0</th>\n",
       "      <td>208500</td>\n",
       "    </tr>\n",
       "    <tr>\n",
       "      <th>1</th>\n",
       "      <td>181500</td>\n",
       "    </tr>\n",
       "    <tr>\n",
       "      <th>2</th>\n",
       "      <td>223500</td>\n",
       "    </tr>\n",
       "    <tr>\n",
       "      <th>3</th>\n",
       "      <td>140000</td>\n",
       "    </tr>\n",
       "    <tr>\n",
       "      <th>4</th>\n",
       "      <td>250000</td>\n",
       "    </tr>\n",
       "  </tbody>\n",
       "</table>\n",
       "</div>"
      ],
      "text/plain": [
       "   SalePrice\n",
       "0     208500\n",
       "1     181500\n",
       "2     223500\n",
       "3     140000\n",
       "4     250000"
      ]
     },
     "execution_count": 224,
     "metadata": {},
     "output_type": "execute_result"
    }
   ],
   "source": [
    "y.head()"
   ]
  },
  {
   "cell_type": "code",
   "execution_count": 225,
   "id": "bdd0149b",
   "metadata": {},
   "outputs": [],
   "source": [
    "x_train, x_test, y_train, y_test = train_test_split(x1, y, test_size=0.3, random_state=316)"
   ]
  },
  {
   "cell_type": "code",
   "execution_count": 226,
   "id": "36864dab",
   "metadata": {},
   "outputs": [
    {
     "data": {
      "text/plain": [
       "LinearRegression()"
      ]
     },
     "execution_count": 226,
     "metadata": {},
     "output_type": "execute_result"
    }
   ],
   "source": [
    "# Create linear regression object\n",
    "regr = linear_model.LinearRegression()\n",
    "\n",
    "# Train the model using the training sets\n",
    "regr.fit(x_train, y_train)"
   ]
  },
  {
   "cell_type": "code",
   "execution_count": 227,
   "id": "5fd7965d",
   "metadata": {},
   "outputs": [],
   "source": [
    "y_pred = regr.predict(x_test)"
   ]
  },
  {
   "cell_type": "code",
   "execution_count": 228,
   "id": "755c4bf1",
   "metadata": {},
   "outputs": [
    {
     "data": {
      "text/plain": [
       "1551783357.459256"
      ]
     },
     "execution_count": 228,
     "metadata": {},
     "output_type": "execute_result"
    }
   ],
   "source": [
    "mean_squared_error(y_test, y_pred)"
   ]
  },
  {
   "cell_type": "code",
   "execution_count": 251,
   "id": "97149b8b",
   "metadata": {},
   "outputs": [
    {
     "data": {
      "text/plain": [
       "39392.681521562554"
      ]
     },
     "execution_count": 251,
     "metadata": {},
     "output_type": "execute_result"
    }
   ],
   "source": [
    "mean_squared_error(y_test, y_pred, squared=False)"
   ]
  },
  {
   "cell_type": "code",
   "execution_count": 252,
   "id": "69a2bb46",
   "metadata": {},
   "outputs": [],
   "source": [
    "#np.sqrt(mean_squared_error(y_test, y_pred))"
   ]
  },
  {
   "cell_type": "code",
   "execution_count": 243,
   "id": "395ccb61",
   "metadata": {},
   "outputs": [
    {
     "name": "stdout",
     "output_type": "stream",
     "text": [
      "                            OLS Regression Results                            \n",
      "==============================================================================\n",
      "Dep. Variable:              SalePrice   R-squared:                       0.765\n",
      "Model:                            OLS   Adj. R-squared:                  0.764\n",
      "Method:                 Least Squares   F-statistic:                     788.9\n",
      "Date:                Fri, 18 Mar 2022   Prob (F-statistic):               0.00\n",
      "Time:                        20:52:35   Log-Likelihood:                -17486.\n",
      "No. Observations:                1460   AIC:                         3.499e+04\n",
      "Df Residuals:                    1453   BIC:                         3.502e+04\n",
      "Df Model:                           6                                         \n",
      "Covariance Type:            nonrobust                                         \n",
      "===============================================================================\n",
      "                  coef    std err          t      P>|t|      [0.025      0.975]\n",
      "-------------------------------------------------------------------------------\n",
      "const       -9.623e+05   8.46e+04    -11.377      0.000   -1.13e+06   -7.96e+05\n",
      "LotArea         0.6972      0.107      6.487      0.000       0.486       0.908\n",
      "HouseStyle   -960.7154    620.972     -1.547      0.122   -2178.813     257.382\n",
      "OverallQual  2.306e+04   1145.655     20.130      0.000    2.08e+04    2.53e+04\n",
      "YearBuilt     451.2869     44.628     10.112      0.000     363.745     538.829\n",
      "TotalBsmtSF    25.9314      3.166      8.190      0.000      19.720      32.143\n",
      "GrLivArea      53.5571      2.707     19.785      0.000      48.247      58.867\n",
      "==============================================================================\n",
      "Omnibus:                      546.482   Durbin-Watson:                   1.979\n",
      "Prob(Omnibus):                  0.000   Jarque-Bera (JB):            66061.645\n",
      "Skew:                          -0.699   Prob(JB):                         0.00\n",
      "Kurtosis:                      35.924   Cond. No.                     1.23e+06\n",
      "==============================================================================\n",
      "\n",
      "Notes:\n",
      "[1] Standard Errors assume that the covariance matrix of the errors is correctly specified.\n",
      "[2] The condition number is large, 1.23e+06. This might indicate that there are\n",
      "strong multicollinearity or other numerical problems.\n"
     ]
    }
   ],
   "source": [
    "n1 = sm.add_constant(x1)\n",
    "est = sm.OLS(y, n1)\n",
    "est2 = est.fit()\n",
    "print(est2.summary())"
   ]
  },
  {
   "cell_type": "code",
   "execution_count": 249,
   "id": "87862197",
   "metadata": {},
   "outputs": [
    {
     "name": "stdout",
     "output_type": "stream",
     "text": [
      "Intercept:  [-1012966.28738433]\n",
      "Coefficients:\n"
     ]
    },
    {
     "data": {
      "text/plain": [
       "[('LotArea',\n",
       "  array([ 6.47555996e-01, -6.25062915e+02,  2.27169574e+04,  4.78150802e+02,\n",
       "          2.37361872e+01,  5.44848347e+01]))]"
      ]
     },
     "execution_count": 249,
     "metadata": {},
     "output_type": "execute_result"
    }
   ],
   "source": [
    "# (slope1, intercept1, rvalue1, pvalue1, stderr1) = linregress(x1, y)\n",
    "# regress_values1 = x1 * slope1 + intercept1\n",
    "# line_eq1 = \"y = \" + str(round(slope1,2)) + \"x + \" + str(round(intercept1,2))\n",
    "# plt.scatter(x_values,y_values)\n",
    "# plt.plot(x1,regress_values1,\"r-\")\n",
    "# plt.annotate(line_eq,(2010,550),fontsize=12,color=\"blue\")\n",
    "# plt.show()\n",
    "# print(line_eq1)\n",
    "\n",
    "print(\"Intercept: \", regr.intercept_)\n",
    "print(\"Coefficients:\")\n",
    "list(zip(x1, regr.coef_))\n"
   ]
  },
  {
   "cell_type": "code",
   "execution_count": 230,
   "id": "003500f7",
   "metadata": {},
   "outputs": [],
   "source": [
    "from statsmodels.stats.outliers_influence import variance_inflation_factor"
   ]
  },
  {
   "cell_type": "code",
   "execution_count": 231,
   "id": "2cf8c77b",
   "metadata": {},
   "outputs": [
    {
     "name": "stdout",
     "output_type": "stream",
     "text": [
      "       feature        VIF\n",
      "0      LotArea   2.377628\n",
      "1   HouseStyle   4.420111\n",
      "2  OverallQual  40.672468\n",
      "3    YearBuilt  23.028724\n",
      "4  TotalBsmtSF  11.893457\n",
      "5    GrLivArea  16.733771\n"
     ]
    }
   ],
   "source": [
    "vif_hp_train = pd.DataFrame()\n",
    "vif_hp_train[\"feature\"] = x1.columns\n",
    "  \n",
    "# calculating VIF for each feature\n",
    "vif_hp_train[\"VIF\"] = [variance_inflation_factor(x1.values, i)\n",
    "                          for i in range(len(x1.columns))]\n",
    "  \n",
    "print(vif_hp_train)\n"
   ]
  },
  {
   "cell_type": "code",
   "execution_count": 238,
   "id": "28f6c013",
   "metadata": {},
   "outputs": [
    {
     "name": "stdout",
     "output_type": "stream",
     "text": [
      "MSE for Model #2: 2478188383.37\n",
      "Square Root MSE for Model #2: 49781.41\n"
     ]
    }
   ],
   "source": [
    "# Experiment 2\n",
    "y2 = hp_train[['SalePrice']]\n",
    "# x2 = hp_train[['MSSubClass','MSZoning','LotArea','BldgType','HouseStyle',\n",
    "#               'OverallCond','TotalBsmtSF','GrLivArea']]\n",
    "x2 = hp_train[['LotArea','HouseStyle','TotalBsmtSF','GrLivArea']]\n",
    "\n",
    "x_train2, x_test2, y_train2, y_test2 = train_test_split(x2, y2, test_size=0.3, random_state=316)\n",
    "\n",
    "# Create linear regression object\n",
    "regr2 = linear_model.LinearRegression()\n",
    "\n",
    "# Train the model using the training sets\n",
    "regr2.fit(x_train2, y_train2)\n",
    "\n",
    "y_pred2 = regr2.predict(x_test2)\n",
    "\n",
    "mse2 = mean_squared_error(y_test2, y_pred2)\n",
    "root_mse2 = mean_squared_error(y_test2, y_pred2, squared=False)\n",
    "\n",
    "print(f\"MSE for Model #2: {round(mse2,2)}\")\n",
    "print(f\"Square Root MSE for Model #2: {round(root_mse2,2)}\")\n"
   ]
  },
  {
   "cell_type": "code",
   "execution_count": 239,
   "id": "d53fe6be",
   "metadata": {},
   "outputs": [
    {
     "name": "stdout",
     "output_type": "stream",
     "text": [
      "       feature        VIF\n",
      "0      LotArea   2.333703\n",
      "1   HouseStyle   3.617482\n",
      "2  TotalBsmtSF   7.855644\n",
      "3    GrLivArea  12.111534\n"
     ]
    }
   ],
   "source": [
    "vif_hp_train2 = pd.DataFrame()\n",
    "vif_hp_train2[\"feature\"] = x2.columns\n",
    "  \n",
    "# calculating VIF for each feature\n",
    "vif_hp_train2[\"VIF\"] = [variance_inflation_factor(x2.values, i)\n",
    "                          for i in range(len(x2.columns))]\n",
    "  \n",
    "print(vif_hp_train2)\n"
   ]
  },
  {
   "cell_type": "code",
   "execution_count": 240,
   "id": "d3b2708f",
   "metadata": {},
   "outputs": [
    {
     "name": "stdout",
     "output_type": "stream",
     "text": [
      "MSE for Model #3: 3541390968.95\n",
      "Square Root MSE for Model #3: 59509.59\n"
     ]
    }
   ],
   "source": [
    "# Experiment 3\n",
    "y3 = hp_train[['SalePrice']]\n",
    "# x3 = hp_train[['MSSubClass','MSZoning','LotArea','BldgType','HouseStyle',\n",
    "#               'TotalBsmtSF']]\n",
    "x3 = hp_train[['LotArea','HouseStyle','TotalBsmtSF']]\n",
    "\n",
    "x_train3, x_test3, y_train3, y_test3 = train_test_split(x3, y3, test_size=0.3, random_state=316)\n",
    "\n",
    "# Create linear regression object\n",
    "regr3 = linear_model.LinearRegression()\n",
    "\n",
    "# Train the model using the training sets\n",
    "regr3.fit(x_train3, y_train3)\n",
    "\n",
    "y_pred3 = regr3.predict(x_test3)\n",
    "\n",
    "mse3 = mean_squared_error(y_test3, y_pred3)\n",
    "root_mse3 = mean_squared_error(y_test3, y_pred3, squared=False)\n",
    "\n",
    "print(f\"MSE for Model #3: {round(mse3,2)}\")\n",
    "print(f\"Square Root MSE for Model #3: {round(root_mse3,2)}\")\n"
   ]
  },
  {
   "cell_type": "code",
   "execution_count": 241,
   "id": "95f9bbc5",
   "metadata": {},
   "outputs": [
    {
     "name": "stdout",
     "output_type": "stream",
     "text": [
      "       feature       VIF\n",
      "0      LotArea  2.226089\n",
      "1   HouseStyle  2.332161\n",
      "2  TotalBsmtSF  3.275142\n"
     ]
    }
   ],
   "source": [
    "vif_hp_train3 = pd.DataFrame()\n",
    "vif_hp_train3[\"feature\"] = x3.columns\n",
    "  \n",
    "# calculating VIF for each feature\n",
    "vif_hp_train3[\"VIF\"] = [variance_inflation_factor(x3.values, i)\n",
    "                          for i in range(len(x3.columns))]\n",
    "  \n",
    "print(vif_hp_train3)"
   ]
  },
  {
   "cell_type": "code",
   "execution_count": null,
   "id": "8586d88a",
   "metadata": {},
   "outputs": [],
   "source": []
  }
 ],
 "metadata": {
  "kernelspec": {
   "display_name": "Python 3",
   "language": "python",
   "name": "python3"
  },
  "language_info": {
   "codemirror_mode": {
    "name": "ipython",
    "version": 3
   },
   "file_extension": ".py",
   "mimetype": "text/x-python",
   "name": "python",
   "nbconvert_exporter": "python",
   "pygments_lexer": "ipython3",
   "version": "3.8.8"
  }
 },
 "nbformat": 4,
 "nbformat_minor": 5
}
